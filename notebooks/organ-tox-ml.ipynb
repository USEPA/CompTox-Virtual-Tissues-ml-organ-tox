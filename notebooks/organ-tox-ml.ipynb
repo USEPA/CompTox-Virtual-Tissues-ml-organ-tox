{
 "cells": [
  {
   "cell_type": "code",
   "execution_count": 1,
   "metadata": {
    "collapsed": false
   },
   "outputs": [
    {
     "name": "stderr",
     "output_type": "stream",
     "text": [
      "/usr/local/anaconda2/lib/python2.7/site-packages/IPython/config.py:13: ShimWarning: The `IPython.config` package has been deprecated. You should import from traitlets.config instead.\n",
      "  \"You should import from traitlets.config instead.\", ShimWarning)\n",
      "/usr/local/anaconda2/lib/python2.7/site-packages/IPython/utils/traitlets.py:5: UserWarning: IPython.utils.traitlets has moved to a top-level traitlets package.\n",
      "  warn(\"IPython.utils.traitlets has moved to a top-level traitlets package.\")\n"
     ]
    },
    {
     "name": "stdout",
     "output_type": "stream",
     "text": [
      "Populating the interactive namespace from numpy and matplotlib\n"
     ]
    }
   ],
   "source": [
    "%reload_ext autoreload\n",
    "%autoreload 2\n",
    "%reload_ext sql \n",
    "%pylab inline\n",
    "%matplotlib inline\n",
    "\n",
    "import pandas as pd\n",
    "import os, random\n",
    "\n",
    "import pickle,time\n",
    "\n",
    "tmstmp = time.strftime(\"%m-%d-%Y\",time.localtime())\n"
   ]
  },
  {
   "cell_type": "markdown",
   "metadata": {},
   "source": [
    "# Initialisation"
   ]
  },
  {
   "cell_type": "markdown",
   "metadata": {},
   "source": [
    "## Directory paths\n",
    "* TOP = path to the toplevel directory \n",
    "* TOP+/lib = path to the python source files that are required\n",
    "* FIG_DIR = path to where figures are stored"
   ]
  },
  {
   "cell_type": "code",
   "execution_count": 2,
   "metadata": {
    "collapsed": true
   },
   "outputs": [],
   "source": [
    "# Set up the local source files\n",
    "TOP = os.getcwd().replace('notebooks','')\n",
    "LIB = TOP+'lib'\n",
    "if not LIB in sys.path: sys.path.append(LIB)\n",
    "\n",
    "DAT_DIR = TOP + '/data/'\n",
    "RES_DIR = TOP + '/results/'\n",
    "FIG_DIR = TOP + '/figs/'\n"
   ]
  },
  {
   "cell_type": "markdown",
   "metadata": {},
   "source": [
    "## Load packages\n",
    "Open organtox_v1 MongoDB - if this fails then check your mongodb installation"
   ]
  },
  {
   "cell_type": "code",
   "execution_count": 4,
   "metadata": {
    "collapsed": false
   },
   "outputs": [
    {
     "data": {
      "text/plain": [
       "[u'chm_fp', u'ml_lr_v1', u'bio_fp', u'ml_run_v1', u'tox_fp']"
      ]
     },
     "execution_count": 4,
     "metadata": {},
     "output_type": "execute_result"
    }
   ],
   "source": [
    "from organtox import *\n",
    "\n",
    "DB = openMongo(host='pb.epa.gov',user='devel',passwd='devel',db='organtox_v1')\n",
    "DB.collection_names()"
   ]
  },
  {
   "cell_type": "markdown",
   "metadata": {},
   "source": [
    "## Parallelisation\n",
    "\n",
    "The code uses [IPython's parallel computing](https://ipyparallel.readthedocs.io/) library. \n",
    "Make sure the parallel machine specified as the input to initParallel is running. "
   ]
  },
  {
   "cell_type": "code",
   "execution_count": 6,
   "metadata": {
    "collapsed": false
   },
   "outputs": [
    {
     "data": {
      "text/plain": [
       "<DirectView [0, 1, 2, 3,...]>"
      ]
     },
     "execution_count": 6,
     "metadata": {},
     "output_type": "execute_result"
    }
   ],
   "source": [
    "from organtox import *\n",
    "\n",
    "initParallel(parallel_machine='my_parallel')\n",
    "\n",
    "d_view"
   ]
  },
  {
   "cell_type": "code",
   "execution_count": 7,
   "metadata": {
    "collapsed": false
   },
   "outputs": [
    {
     "data": {
      "text/plain": [
       "<AsyncResult: finished>"
      ]
     },
     "execution_count": 7,
     "metadata": {},
     "output_type": "execute_result"
    }
   ],
   "source": [
    "resp=d_view.push(dict(TOP=TOP,LIB=LIB))\n",
    "\n",
    "d_view.execute(\"\"\"\n",
    "import sys\n",
    "if not LIB in sys.path: sys.path.append(LIB)\n",
    "from organtox import *\n",
    "DB = openMongo(host='pb.epa.gov',user='devel',passwd='devel',db='organtox_v1')\n",
    "\"\"\")\n",
    "\n"
   ]
  },
  {
   "cell_type": "markdown",
   "metadata": {},
   "source": [
    "# Supplemental Data"
   ]
  },
  {
   "cell_type": "markdown",
   "metadata": {},
   "source": [
    "# Supervised Machine Learning"
   ]
  },
  {
   "cell_type": "markdown",
   "metadata": {},
   "source": [
    "## The target organ toxicity outcomes"
   ]
  },
  {
   "cell_type": "code",
   "execution_count": 8,
   "metadata": {
    "collapsed": false
   },
   "outputs": [
    {
     "data": {
      "text/plain": [
       "35"
      ]
     },
     "execution_count": 8,
     "metadata": {},
     "output_type": "execute_result"
    }
   ],
   "source": [
    "Outcomes =[u'CHR:Adrenal Gland',\n",
    " u'CHR:Bone Marrow',\n",
    " u'CHR:Brain',\n",
    " u'CHR:Eye',\n",
    " u'CHR:Heart',\n",
    " u'CHR:Kidney',\n",
    " u'CHR:Liver',\n",
    " u'CHR:Lung',\n",
    " u'CHR:Lymph Node',\n",
    " u'CHR:Mammary Gland',\n",
    " u'CHR:Pancreas',\n",
    " u'CHR:Pituitary Gland',\n",
    " u'CHR:Spleen',\n",
    " u'CHR:Stomach',\n",
    " u'CHR:Testes',\n",
    " u'CHR:Thymus',\n",
    " u'CHR:Thyroid Gland',\n",
    " u'CHR:Urinary Bladder',\n",
    " u'CHR:Uterus',\n",
    " u'MGR:Brain',\n",
    " u'MGR:Kidney',\n",
    " u'MGR:Ovary',\n",
    " u'MGR:Testes',\n",
    " u'SUB:Adrenal Gland',\n",
    " u'SUB:Bone Marrow',\n",
    " u'SUB:Brain',\n",
    " u'SUB:Heart',\n",
    " u'SUB:Kidney',\n",
    " u'SUB:Liver',\n",
    " u'SUB:Lung',\n",
    " u'SUB:Spleen',\n",
    " u'SUB:Stomach',\n",
    " u'SUB:Testes',\n",
    " u'SUB:Thymus',\n",
    " u'SUB:Thyroid Gland']\n",
    "len(Outcomes)"
   ]
  },
  {
   "cell_type": "markdown",
   "metadata": {},
   "source": [
    "## Identify all the datasets for machine learning\n",
    "\n"
   ]
  },
  {
   "cell_type": "code",
   "execution_count": null,
   "metadata": {
    "collapsed": false
   },
   "outputs": [],
   "source": [
    "from organtox import *\n",
    "import random\n",
    "P_ALL = []\n",
    "\n",
    "DB.ml_run_v1.drop()\n",
    "\n",
    "for tox in Outcomes:\n",
    "    RN0=[]\n",
    "    # Get one seed for each toxicity classification\n",
    "    seed = random.randint(1,1e6)      \n",
    "    \n",
    "    # Get the data \n",
    "    DS0 = getToxDataSet(tox,MDB=DB)\n",
    "\n",
    "    N_p,N_n = (DS0['tox'][tox]==1).sum(),(DS0['tox'][tox]==0).sum()\n",
    "    \n",
    "    # For a balanced analysis \n",
    "    N_pn = N_p if N_p<N_n else N_n\n",
    "    \n",
    "    print \"> Tox \",tox,N_p,'+', N_n,'-',time.strftime(\"%H:%M\",time.localtime())\n",
    "    sys.stdout.flush()\n",
    "    sys.stderr.flush()\n",
    "    \n",
    "    for dt in ['bio','chm','ct','bc','bct']:\n",
    "        for n_np in range(50,N_pn,5):\n",
    "            RN0.append(dict(tox_class=tox,descriptor_type=dt,\n",
    "                            num_negpos=n_np,rand_seed=seed))\n",
    "        if n_np<N_pn:\n",
    "            RN0.append(dict(tox_class=tox,descriptor_type=dt,\n",
    "                            num_negpos=N_pn,rand_seed=seed))\n",
    "            \n",
    "    DB.ml_run_v1.insert_many(RN0)\n"
   ]
  },
  {
   "cell_type": "code",
   "execution_count": 8,
   "metadata": {
    "collapsed": false
   },
   "outputs": [
    {
     "data": {
      "text/plain": [
       "(2670,\n",
       " {u'_id': ObjectId('585882cb072e60f47103a079'),\n",
       "  u'descriptor_type': u'bio',\n",
       "  u'num_negpos': 50,\n",
       "  u'rand_seed': 819775,\n",
       "  u'tox_class': u'CHR:Adrenal Gland'})"
      ]
     },
     "execution_count": 8,
     "metadata": {},
     "output_type": "execute_result"
    }
   ],
   "source": [
    "DB.ml_run_v1.count(),DB.ml_run_v1.find_one()"
   ]
  },
  {
   "cell_type": "code",
   "execution_count": null,
   "metadata": {
    "collapsed": false
   },
   "outputs": [
    {
     "name": "stdout",
     "output_type": "stream",
     "text": [
      "Starting ML Analysis to assign toxicity 19/12/2016 20:17\n",
      "Data sets:  2670\n"
     ]
    }
   ],
   "source": [
    "DB.ml_lr_v1.drop()\n",
    "\n",
    "WORK = [(w['tox_class'],w['descriptor_type'],w['num_negpos'],w['rand_seed']) for w in DB.ml_run_v1.find()]\n",
    "shuffle(WORK)\n",
    "\n",
    "print \"Starting ML Analysis to assign toxicity \" + time.strftime(\"%d/%m/%Y %H:%M\",time.localtime())\n",
    "print \"Data sets: \", DB.ml_run_v1.count()\n",
    "\n",
    "\n",
    "P = lb_view.map(lambda (tox_i,dt_i,np_i,rs_i): runOrganToxML(tox_i,dt_i,np_i,rs_i,\n",
    "                                                             ss_iters=20,cv_iters=10,cv_nfolds=5,\n",
    "                                                             n_ds_min=5,n_ds_max=26,n_ds_step=1,\n",
    "                                                             Col_ds=None,Col_lr=DB.ml_lr_v1,MDB=DB),\n",
    "                    WORK)\n",
    "\n",
    "print \"Ending ML Analysis to assign activity \" + time.strftime(\"%d/%m/%Y %H:%M\",time.localtime())\n",
    "#send_email(txt=\"Done\",subj=\"ToxBrain Done\")"
   ]
  },
  {
   "cell_type": "code",
   "execution_count": null,
   "metadata": {
    "collapsed": false
   },
   "outputs": [],
   "source": [
    "for i in ['pred','lr','n_ds','dt_in','dt_out','n_obs','ds_id',\n",
    "          'perf_cvt.f1_mn','perf_cvt.bacc_mn']: \n",
    "    print '>',i\n",
    "    DB.ml_lr_v1.create_index(i)"
   ]
  },
  {
   "cell_type": "markdown",
   "metadata": {},
   "source": [
    "## Summarize ML results"
   ]
  },
  {
   "cell_type": "code",
   "execution_count": null,
   "metadata": {
    "collapsed": false
   },
   "outputs": [],
   "source": [
    "from organtox import *\n",
    "\n",
    "DB.ml_summary_v1.drop()\n",
    "for pred in DB.ml_lr_v1.distinct('pred'):\n",
    "    predPerfSummary(pred,Col_ml=DB.ml_lr_v1,Col_sum=DB.ml_summary_v1)\n",
    "    print '>',pred,DB.ml_summary_v1.count()"
   ]
  },
  {
   "cell_type": "code",
   "execution_count": null,
   "metadata": {
    "collapsed": false
   },
   "outputs": [],
   "source": [
    "DB.ml_summary_v1.drop()\n",
    "\n",
    "print \"Starting ML Summary  \" + time.strftime(\"%d/%m/%Y %H:%M\",time.localtime())\n",
    "\n",
    "initParallel(Code=\"\"\"\n",
    "from organtox import *\n",
    "\"\"\")\n",
    "\n",
    "TOX = list(set(DB.ml_lr_v1.distinct('pred'))#.difference(DB.ml_summary_v1.distinct('pred')))\n",
    "\n",
    "P = lb_view.map(lambda (tox_i): predPerfSummary(tox_i,Col_ml=DB.ml_lr_v1,Col_sum=DB.ml_summary_v1), TOX)\n",
    "\n",
    "print \"Ending ML Summary \" + time.strftime(\"%d/%m/%Y %H:%M\",time.localtime())\n"
   ]
  },
  {
   "cell_type": "code",
   "execution_count": null,
   "metadata": {
    "collapsed": false
   },
   "outputs": [],
   "source": [
    "for i in ['pred','lr','n_ds','dt_in','dt_out','n_obs','f1_mn','pt','sens_mn','spec_mn','bacc_mn','acc_mn']: \n",
    "    print '>',i\n",
    "    DB.ml_summary_v1.create_index(i)"
   ]
  }
 ],
 "metadata": {
  "kernelspec": {
   "display_name": "Python [Root]",
   "language": "python",
   "name": "Python [Root]"
  },
  "language_info": {
   "codemirror_mode": {
    "name": "ipython",
    "version": 2
   },
   "file_extension": ".py",
   "mimetype": "text/x-python",
   "name": "python",
   "nbconvert_exporter": "python",
   "pygments_lexer": "ipython2",
   "version": "2.7.12"
  }
 },
 "nbformat": 4,
 "nbformat_minor": 0
}
